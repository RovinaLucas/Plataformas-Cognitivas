{
  "nbformat": 4,
  "nbformat_minor": 0,
  "metadata": {
    "colab": {
      "provenance": []
    },
    "kernelspec": {
      "name": "python3",
      "display_name": "Python 3"
    },
    "language_info": {
      "name": "python"
    }
  },
  "cells": [
    {
      "cell_type": "code",
      "execution_count": null,
      "metadata": {
        "colab": {
          "base_uri": "https://localhost:8080/"
        },
        "id": "9H0QOWb1JKLE",
        "outputId": "fd704f59-fbcb-4465-e428-2bd5fc8ba31d"
      },
      "outputs": [
        {
          "output_type": "stream",
          "name": "stdout",
          "text": [
            "link da foto http://mars.jpl.nasa.gov/msl-raw-images/proj/msl/redops/ods/surface/sol/01000/opgs/edr/fcam/FLB_486265257EDR_F0481570FHAZ00323M_.JPG\n",
            "Deseja ver a próxima?(sim/não) sim\n",
            "link da foto http://mars.jpl.nasa.gov/msl-raw-images/proj/msl/redops/ods/surface/sol/01000/opgs/edr/fcam/FRB_486265257EDR_F0481570FHAZ00323M_.JPG\n",
            "Deseja ver a próxima?(sim/não) sim\n",
            "link da foto http://mars.jpl.nasa.gov/msl-raw-images/proj/msl/redops/ods/surface/sol/01000/opgs/edr/rcam/RLB_486265291EDR_F0481570RHAZ00323M_.JPG\n"
          ]
        }
      ],
      "source": [
        "\n",
        "import requests\n",
        "resposta = requests.get(\"https://api.nasa.gov/mars-photos/api/v1/rovers/curiosity/photos?sol=1000&api_key=DEMO_KEY\")\n",
        "pergunta = \"sim\"\n",
        "contador = 0\n",
        "while pergunta != \"não\":\n",
        "  x= resposta.json()\n",
        "  link = x[\"photos\"][contador][\"img_src\"]\n",
        "  print(\"link da foto\",link)\n",
        "  pergunta = input(\"Deseja ver a próxima?(sim/não) \")\n",
        "  contador += 1\n",
        ""
      ]
    },
    {
      "cell_type": "code",
      "source": [],
      "metadata": {
        "id": "0TJdN4jzPEtg"
      },
      "execution_count": null,
      "outputs": []
    }
  ]
}